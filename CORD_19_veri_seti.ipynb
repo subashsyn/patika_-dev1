{
  "nbformat": 4,
  "nbformat_minor": 0,
  "metadata": {
    "colab": {
      "provenance": []
    },
    "kernelspec": {
      "name": "python3",
      "display_name": "Python 3"
    },
    "language_info": {
      "name": "python"
    }
  },
  "cells": [
    {
      "cell_type": "code",
      "execution_count": 1,
      "metadata": {
        "id": "tEwfUMuvhCTx"
      },
      "outputs": [],
      "source": [
        "import pandas as pd\n",
        "import numpy as np\n",
        "import matplotlib.pyplot as plt\n",
        "import warnings\n",
        "warnings.filterwarnings(\"ignore\")"
      ]
    },
    {
      "cell_type": "code",
      "source": [
        "covid = pd.read_csv(\"data/COVID-19/covid19_1210.csv\")\n",
        "covid.head(20)"
      ],
      "metadata": {
        "id": "bTp4jPB5hHrw"
      },
      "execution_count": null,
      "outputs": []
    },
    {
      "cell_type": "code",
      "source": [
        "covid[\"Country_Region\"].unique()"
      ],
      "metadata": {
        "id": "DglprmLwhIIB"
      },
      "execution_count": null,
      "outputs": []
    },
    {
      "cell_type": "code",
      "source": [
        "covid[\"Country_Region\"].nunique()"
      ],
      "metadata": {
        "id": "GAYMSA6dhLKS"
      },
      "execution_count": null,
      "outputs": []
    },
    {
      "cell_type": "code",
      "source": [
        "covid.info()"
      ],
      "metadata": {
        "id": "-S9C9I_shNw9"
      },
      "execution_count": null,
      "outputs": []
    },
    {
      "cell_type": "code",
      "source": [
        "df1 = covid[[\"Country_Region\",\"Deaths\",\"Confirmed\",\"Last_Update\"]]\n",
        "df1.head(20)"
      ],
      "metadata": {
        "id": "7_exxxj1hPgW"
      },
      "execution_count": null,
      "outputs": []
    },
    {
      "cell_type": "code",
      "source": [
        "for index, row in df1.iterrows():\n",
        "    if(row[\"Country_Region\"] == \"Indonesia\"):\n",
        "        display(row[[\"Country_Region\", \"Confirmed\"]])"
      ],
      "metadata": {
        "id": "bkfBvPmHhUHA"
      },
      "execution_count": null,
      "outputs": []
    },
    {
      "cell_type": "code",
      "source": [],
      "metadata": {
        "id": "N8pLYwWhhXP-"
      },
      "execution_count": null,
      "outputs": []
    }
  ]
}